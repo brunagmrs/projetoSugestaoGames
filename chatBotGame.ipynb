{
  "nbformat": 4,
  "nbformat_minor": 0,
  "metadata": {
    "colab": {
      "provenance": []
    },
    "kernelspec": {
      "name": "python3",
      "display_name": "Python 3"
    },
    "language_info": {
      "name": "python"
    }
  },
  "cells": [
    {
      "cell_type": "markdown",
      "source": [
        "Bibliotecas para deixar o código mais robusto\n"
      ],
      "metadata": {
        "id": "Xb6KKKai1k36"
      }
    },
    {
      "cell_type": "code",
      "source": [
        "import google.generativeai as genai\n",
        "import textwrap\n",
        "from IPython.display import display\n",
        "from IPython.display import Markdown"
      ],
      "metadata": {
        "id": "Y4DLiQFo1i0p"
      },
      "execution_count": 43,
      "outputs": []
    },
    {
      "cell_type": "markdown",
      "source": [
        "Instala (ou atualiza, se já estiver instalado) o pacote google-generativeai usando o pip"
      ],
      "metadata": {
        "id": "s8cEtYHJxiQd"
      }
    },
    {
      "cell_type": "code",
      "execution_count": 44,
      "metadata": {
        "id": "oCfc0kbxije6"
      },
      "outputs": [],
      "source": [
        "!pip install -q -U google-generativeai"
      ]
    },
    {
      "cell_type": "markdown",
      "source": [
        "Define a sua chave de API e configura a biblioteca para usar essa chave"
      ],
      "metadata": {
        "id": "BEX_q6_0x074"
      }
    },
    {
      "cell_type": "code",
      "source": [
        "import google.generativeai as genai\n",
        "\n",
        "GOOGLE_API_KEY=\"INSIRA_SUA_API_KEY\"\n",
        "genai.configure(api_key=GOOGLE_API_KEY)"
      ],
      "metadata": {
        "id": "_UBy2u9Ki5N3"
      },
      "execution_count": 45,
      "outputs": []
    },
    {
      "cell_type": "markdown",
      "source": [
        "Percorre a lista de todos os modelos disponíveis na API do Google AI Generative. Para cada modelo, ele verifica se o modelo suporta o método de geração 'generateContent'"
      ],
      "metadata": {
        "id": "MaZIXD-UyByt"
      }
    },
    {
      "cell_type": "code",
      "source": [
        "for m in genai.list_models():\n",
        "  if 'generateContent' in m.supported_generation_methods:\n",
        "    print(m.name)"
      ],
      "metadata": {
        "colab": {
          "base_uri": "https://localhost:8080/",
          "height": 139
        },
        "id": "2MrivJZTjCYr",
        "outputId": "02c71ae1-4206-41b4-d027-b9c9d7d55509"
      },
      "execution_count": 46,
      "outputs": [
        {
          "output_type": "stream",
          "name": "stdout",
          "text": [
            "models/gemini-1.0-pro\n",
            "models/gemini-1.0-pro-001\n",
            "models/gemini-1.0-pro-latest\n",
            "models/gemini-1.0-pro-vision-latest\n",
            "models/gemini-1.5-pro-latest\n",
            "models/gemini-pro\n",
            "models/gemini-pro-vision\n"
          ]
        }
      ]
    },
    {
      "cell_type": "markdown",
      "source": [
        " Configurar o comportamento do modelo de linguagem ao gerar texto"
      ],
      "metadata": {
        "id": "b3R7qyy0x8Or"
      }
    },
    {
      "cell_type": "code",
      "source": [
        "generation_config = {\n",
        "  \"candidate_count\": 1,\n",
        "  \"temperature\": 0.5,\n",
        "}"
      ],
      "metadata": {
        "id": "sBqMbKLIjgs7"
      },
      "execution_count": 47,
      "outputs": []
    },
    {
      "cell_type": "markdown",
      "source": [
        "Configurações de segurança"
      ],
      "metadata": {
        "id": "-7rNjXJNx8th"
      }
    },
    {
      "cell_type": "code",
      "source": [
        "safety_settings={\n",
        "    'HATE': 'BLOCK_NONE',\n",
        "    'HARASSMENT': 'BLOCK_NONE',\n",
        "    'SEXUAL' : 'BLOCK_NONE',\n",
        "    'DANGEROUS' : 'BLOCK_NONE'\n",
        "    }"
      ],
      "metadata": {
        "id": "AtNk-y60jhWr"
      },
      "execution_count": 48,
      "outputs": []
    },
    {
      "cell_type": "markdown",
      "source": [
        "Inicializa o modelo pronto para gerar texto com as configurações personalizadas"
      ],
      "metadata": {
        "id": "gn2iv1Tfx9B9"
      }
    },
    {
      "cell_type": "code",
      "source": [
        "model = genai.GenerativeModel(model_name='gemini-1.0-pro',\n",
        "                                  generation_config=generation_config,\n",
        "                                  safety_settings=safety_settings,)"
      ],
      "metadata": {
        "id": "twfdUmv2jjxt"
      },
      "execution_count": 49,
      "outputs": []
    },
    {
      "cell_type": "markdown",
      "source": [
        "Criação da função para coletar preferências"
      ],
      "metadata": {
        "id": "mkuXuS2e2Na4"
      }
    },
    {
      "cell_type": "code",
      "source": [
        "def coletar_preferencias():\n",
        "  \"\"\"Coleta as preferências do usuário sobre jogos.\"\"\"\n",
        "  preferencias = {}\n",
        "  preferencias['genero'] = input(\"Qual o seu gênero de jogo favorito? \")\n",
        "  preferencias['plataforma'] = input(\"Qual a sua plataforma de jogo preferida? \")\n",
        "\n",
        "  return preferencias"
      ],
      "metadata": {
        "id": "fp4p6VEO2MkD"
      },
      "execution_count": 50,
      "outputs": []
    },
    {
      "cell_type": "markdown",
      "source": [
        "Criação da funcção para gerar sugestões"
      ],
      "metadata": {
        "id": "JlmRO19w2dYI"
      }
    },
    {
      "cell_type": "code",
      "source": [
        "def gerar_sugestoes(preferencias):\n",
        "  \"\"\"Gera sugestões de jogos com base nas preferências do usuário.\"\"\"\n",
        "  prompt = f\"Com base nas seguintes preferências:\\n\"\n",
        "  for chave, valor in preferencias.items():\n",
        "    prompt += f\"- {chave}: {valor}\\n\"\n",
        "  prompt += \"Sugira alguns jogos interessantes:\"\n",
        "  response = chat.send_message(prompt)\n",
        "  return response.text"
      ],
      "metadata": {
        "id": "LSfsal5l2cqf"
      },
      "execution_count": 51,
      "outputs": []
    },
    {
      "cell_type": "markdown",
      "source": [
        "Criação da função para gerar histórico"
      ],
      "metadata": {
        "id": "P_44DkLi8hHx"
      }
    },
    {
      "cell_type": "code",
      "source": [
        "def exibir_historico():\n",
        "  \"\"\"Exibe o histórico da conversa formatado em Markdown.\"\"\"\n",
        "  print(\"--------------------\")\n",
        "  print(\"Histórico da Conversa:\")\n",
        "  print(\"--------------------\")\n",
        "  for message in chat.history:\n",
        "    display(to_markdown(f'**{message.role}**: {message.parts[0].text}'))\n",
        "  print(\"--------------------\")"
      ],
      "metadata": {
        "id": "dPIbzoga8gX_"
      },
      "execution_count": 57,
      "outputs": []
    },
    {
      "cell_type": "markdown",
      "source": [
        "Criação da função de exibição de menu para conversar com o chat"
      ],
      "metadata": {
        "id": "b9x4lSlX4x08"
      }
    },
    {
      "cell_type": "code",
      "source": [
        "def exibir_menu():\n",
        "  \"\"\"Exibe o menu de opções para o usuário.\"\"\"\n",
        "  while True:\n",
        "    print(\"\\n--------------------\")\n",
        "    print(\"O que você gostaria de fazer?\")\n",
        "    print(\"1. Informar minhas preferências\")\n",
        "    print(\"2. Receber sugestões de jogos\")\n",
        "    print(\"3. Ver histórico da conversa\")\n",
        "    print(\"4. Sair\")\n",
        "    print(\"--------------------\")\n",
        "\n",
        "    escolha = input(\"Digite o número da opção desejada: \")\n",
        "\n",
        "    if escolha in ['1', '2', '3', '4']:\n",
        "      return escolha\n",
        "    else:\n",
        "      print(\"Opção inválida. Tente novamente.\")"
      ],
      "metadata": {
        "id": "mnh_xxcW4w-A"
      },
      "execution_count": 52,
      "outputs": []
    },
    {
      "cell_type": "markdown",
      "source": [
        " Inicia uma nova sessão de chat"
      ],
      "metadata": {
        "id": "bS88EVUfx9YK"
      }
    },
    {
      "cell_type": "code",
      "source": [
        "chat = model.start_chat(history=[])"
      ],
      "metadata": {
        "id": "X0sAQg6vqm0Z"
      },
      "execution_count": 53,
      "outputs": []
    },
    {
      "cell_type": "markdown",
      "source": [
        "Introdução"
      ],
      "metadata": {
        "id": "ThBR53B4x9oS"
      }
    },
    {
      "cell_type": "code",
      "source": [
        "prompt = \"Olá! Sou um chatbot que recomenda jogos. Conte-me sobre seus gostos em jogos para que eu possa te ajudar a encontrar algo novo para jogar!\"\n",
        "response = chat.send_message(prompt)\n",
        "print(\"Resposta:\", response.text, '\\n\\n')"
      ],
      "metadata": {
        "colab": {
          "base_uri": "https://localhost:8080/",
          "height": 540
        },
        "id": "ucTJwUJjrJPV",
        "outputId": "718708c3-49d6-45ce-e6cf-cc496cf2f300"
      },
      "execution_count": 54,
      "outputs": [
        {
          "output_type": "stream",
          "name": "stdout",
          "text": [
            "Resposta: **Gêneros Favoritos:**\n",
            "\n",
            "* RPGs de ação\n",
            "* Jogos de tiro em primeira pessoa (FPS)\n",
            "* Jogos de estratégia em tempo real (RTS)\n",
            "* Jogos de mundo aberto\n",
            "\n",
            "**Estilos de Jogo:**\n",
            "\n",
            "* Combate rápido e frenético\n",
            "* Narrativas envolventes e personagens bem desenvolvidos\n",
            "* Jogabilidade estratégica e tomada de decisão\n",
            "* Exploração de mundos vastos e imersivos\n",
            "\n",
            "**Preferências Específicas:**\n",
            "\n",
            "* **RPGs de ação:** Histórias épicas, sistemas de progressão complexos e combate intenso. Exemplos: Skyrim, The Witcher 3, Diablo III\n",
            "* **FPS:** Tiroteios realistas, mapas bem projetados e jogabilidade competitiva. Exemplos: Call of Duty, Battlefield, Counter-Strike: Global Offensive\n",
            "* **RTS:** Gerenciamento de recursos, construção de bases e batalhas em grande escala. Exemplos: StarCraft II, Age of Empires, Total War\n",
            "* **Jogos de mundo aberto:** Mundos enormes para explorar, missões secundárias abundantes e liberdade de escolha. Exemplos: Grand Theft Auto V, Red Dead Redemption 2, The Elder Scrolls V: Skyrim\n",
            "\n",
            "**Outros Fatores:**\n",
            "\n",
            "* **Plataformas:** PC, consoles, dispositivos móveis\n",
            "* **Jogos multiplayer:** Prefiro jogar sozinho ou com amigos?\n",
            "* **Duração:** Procuro jogos curtos e rápidos ou experiências longas e envolventes?\n",
            "* **Atmosfera:** Prefiro jogos com uma atmosfera sombria e séria ou mais leves e descontraídos? \n",
            "\n",
            "\n"
          ]
        }
      ]
    },
    {
      "cell_type": "markdown",
      "source": [
        "Laço para perguntas ao usuário"
      ],
      "metadata": {
        "id": "Q-7bSSxEx-KZ"
      }
    },
    {
      "cell_type": "code",
      "source": [
        "while True:\n",
        "  escolha = exibir_menu()\n",
        "\n",
        "  if escolha == '1':\n",
        "    preferencias = coletar_preferencias()\n",
        "    print(\"Suas preferências foram salvas!\")\n",
        "  elif escolha == '2':\n",
        "    if 'preferencias' in locals():\n",
        "      sugestoes = gerar_sugestoes(preferencias)\n",
        "      print(\"\\nAqui estão algumas sugestões de jogos para você:\\n\", sugestoes)\n",
        "    else:\n",
        "      print(\"Por favor, informe suas preferências primeiro.\")\n",
        "  elif escolha == '3':\n",
        "    exibir_historico()\n",
        "  elif escolha == '4':\n",
        "    print(\"Até mais!\")\n",
        "    break"
      ],
      "metadata": {
        "id": "9ifNTcDLjxBF",
        "colab": {
          "base_uri": "https://localhost:8080/",
          "height": 1000
        },
        "outputId": "be2d4a09-d7a3-4877-f898-01e3083a30fb"
      },
      "execution_count": 58,
      "outputs": [
        {
          "output_type": "stream",
          "name": "stdout",
          "text": [
            "\n",
            "--------------------\n",
            "O que você gostaria de fazer?\n",
            "1. Informar minhas preferências\n",
            "2. Receber sugestões de jogos\n",
            "3. Ver histórico da conversa\n",
            "4. Sair\n",
            "--------------------\n",
            "Digite o número da opção desejada: 3\n",
            "--------------------\n",
            "Histórico da Conversa:\n",
            "--------------------\n"
          ]
        },
        {
          "output_type": "display_data",
          "data": {
            "text/plain": [
              "<IPython.core.display.Markdown object>"
            ],
            "text/markdown": "> **user**: Olá! Sou um chatbot que recomenda jogos. Conte-me sobre seus gostos em jogos para que eu possa te ajudar a encontrar algo novo para jogar!"
          },
          "metadata": {}
        },
        {
          "output_type": "display_data",
          "data": {
            "text/plain": [
              "<IPython.core.display.Markdown object>"
            ],
            "text/markdown": "> **model**: **Gêneros Favoritos:**\n> \n> * RPGs de ação\n> * Jogos de tiro em primeira pessoa (FPS)\n> * Jogos de estratégia em tempo real (RTS)\n> * Jogos de mundo aberto\n> \n> **Estilos de Jogo:**\n> \n> * Combate rápido e frenético\n> * Narrativas envolventes e personagens bem desenvolvidos\n> * Jogabilidade estratégica e tomada de decisão\n> * Exploração de mundos vastos e imersivos\n> \n> **Preferências Específicas:**\n> \n> * **RPGs de ação:** Histórias épicas, sistemas de progressão complexos e combate intenso. Exemplos: Skyrim, The Witcher 3, Diablo III\n> * **FPS:** Tiroteios realistas, mapas bem projetados e jogabilidade competitiva. Exemplos: Call of Duty, Battlefield, Counter-Strike: Global Offensive\n> * **RTS:** Gerenciamento de recursos, construção de bases e batalhas em grande escala. Exemplos: StarCraft II, Age of Empires, Total War\n> * **Jogos de mundo aberto:** Mundos enormes para explorar, missões secundárias abundantes e liberdade de escolha. Exemplos: Grand Theft Auto V, Red Dead Redemption 2, The Elder Scrolls V: Skyrim\n> \n> **Outros Fatores:**\n> \n> * **Plataformas:** PC, consoles, dispositivos móveis\n> * **Jogos multiplayer:** Prefiro jogar sozinho ou com amigos?\n> * **Duração:** Procuro jogos curtos e rápidos ou experiências longas e envolventes?\n> * **Atmosfera:** Prefiro jogos com uma atmosfera sombria e séria ou mais leves e descontraídos?"
          },
          "metadata": {}
        },
        {
          "output_type": "display_data",
          "data": {
            "text/plain": [
              "<IPython.core.display.Markdown object>"
            ],
            "text/markdown": "> **user**: Com base nas seguintes preferências:\n> - genero: Jogo Mobile, Jogo de Aventura e RPG\n> - plataforma: Mobile e Desktop\n> Sugira alguns jogos interessantes:"
          },
          "metadata": {}
        },
        {
          "output_type": "display_data",
          "data": {
            "text/plain": [
              "<IPython.core.display.Markdown object>"
            ],
            "text/markdown": "> **model**: **Jogos para dispositivos móveis e desktop com base nas suas preferências:**\n> \n> **Jogos de Aventura:**\n> \n> * **Genshin Impact:** Um RPG de ação de mundo aberto com um vasto mundo para explorar, personagens cativantes e um sistema de combate envolvente. (Disponível para dispositivos móveis e PC)\n> * **Sky: Children of the Light:** Um jogo de aventura socialmente focado com belos visuais e uma trilha sonora comovente. (Disponível para dispositivos móveis e PC)\n> * **Monument Valley:** Um jogo de quebra-cabeça premiado com ilusões de ótica e uma atmosfera surreal. (Disponível para dispositivos móveis e PC)\n> \n> **RPGs:**\n> \n> * **Diablo Immortal:** Um RPG de ação hack-and-slash com uma história sombria, combate intenso e um sistema de progressão profundo. (Disponível para dispositivos móveis e PC)\n> * **Pathfinder: Wrath of the Righteous:** Um RPG isométrico baseado em turnos com uma história épica, personagens complexos e um sistema de combate tático. (Disponível para PC)\n> * **Elden Ring:** Um RPG de ação de mundo aberto com um mundo vasto e desafiador, combate intenso e uma história envolvente. (Disponível para PC e consoles)\n> \n> **Jogos Híbridos (Aventura/RPG):**\n> \n> * **The Witcher 3: Wild Hunt:** Um RPG de ação de mundo aberto com uma história envolvente, personagens memoráveis e um sistema de combate refinado. (Disponível para dispositivos móveis, PC e consoles)\n> * **Assassin's Creed Valhalla:** Um RPG de ação de mundo aberto com um cenário histórico envolvente, combate brutal e um sistema de progressão profundo. (Disponível para PC e consoles)\n> * **Horizon Zero Dawn:** Um RPG de ação de mundo aberto com um cenário pós-apocalíptico único, combate tático e uma história envolvente. (Disponível para PC e consoles)"
          },
          "metadata": {}
        },
        {
          "output_type": "stream",
          "name": "stdout",
          "text": [
            "--------------------\n",
            "\n",
            "--------------------\n",
            "O que você gostaria de fazer?\n",
            "1. Informar minhas preferências\n",
            "2. Receber sugestões de jogos\n",
            "3. Ver histórico da conversa\n",
            "4. Sair\n",
            "--------------------\n",
            "Digite o número da opção desejada: 4\n",
            "Até mais!\n"
          ]
        }
      ]
    },
    {
      "cell_type": "markdown",
      "source": [
        "Representação do objeto chat"
      ],
      "metadata": {
        "id": "dx1G7Pt9x-rR"
      }
    },
    {
      "cell_type": "code",
      "source": [
        "chat"
      ],
      "metadata": {
        "id": "yvSTd_Q0j00E"
      },
      "execution_count": null,
      "outputs": []
    },
    {
      "cell_type": "markdown",
      "source": [
        "Função para limpar o histórico do Chat"
      ],
      "metadata": {
        "id": "4W2FjAxkw7d0"
      }
    },
    {
      "cell_type": "code",
      "source": [
        "def limpar_historico():\n",
        "  \"\"\"Limpa o histórico do chat.\"\"\"\n",
        "  global chat\n",
        "  chat.history = []\n",
        "  print(\"Histórico do chat limpo.\")"
      ],
      "metadata": {
        "id": "GQ5vONUSj73L"
      },
      "execution_count": null,
      "outputs": []
    },
    {
      "cell_type": "markdown",
      "source": [
        "Utilização da função limpar_historico e reincio da conversa com o Chat"
      ],
      "metadata": {
        "id": "ozPSo-Qkw_Cy"
      }
    },
    {
      "cell_type": "code",
      "source": [
        "limpar_historico()\n",
        "\n",
        "print(\"--------------------\")\n",
        "print(\"\")\n",
        "print(\"Olá! Sou um chatbot que recomenda jogos.\")\n",
        "\n",
        "\n",
        "while True:\n",
        "  escolha = exibir_menu()\n",
        "\n",
        "  if escolha == '1':\n",
        "    preferencias = coletar_preferencias()\n",
        "    print(\"Suas preferências foram salvas!\")\n",
        "  elif escolha == '2':\n",
        "    if 'preferencias' in locals():\n",
        "      sugestoes = gerar_sugestoes(preferencias)\n",
        "      print(\"\\nAqui estão algumas sugestões de jogos para você:\\n\", sugestoes)\n",
        "    else:\n",
        "      print(\"Por favor, informe suas preferências primeiro.\")\n",
        "  elif escolha == '3':\n",
        "    exibir_historico()\n",
        "  elif escolha == '4':\n",
        "    print(\"Até mais!\")\n",
        "    break"
      ],
      "metadata": {
        "id": "zDDtA8-Iw6s2"
      },
      "execution_count": null,
      "outputs": []
    }
  ]
}